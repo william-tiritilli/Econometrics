{
 "cells": [
  {
   "cell_type": "markdown",
   "metadata": {},
   "source": [
    "Analysis of the cigarettes harmfulness"
   ]
  },
  {
   "cell_type": "markdown",
   "metadata": {},
   "source": [
    "In this short study, we would like to analyse the harmfulness of cigarettes with the explaining variable TAR, NICO and weight."
   ]
  },
  {
   "cell_type": "markdown",
   "metadata": {},
   "source": [
    "Part one: quick look on the data"
   ]
  },
  {
   "cell_type": "code",
   "execution_count": 11,
   "metadata": {},
   "outputs": [
    {
     "data": {
      "text/html": [
       "'C:/Users/William/Documents/Data Science - ML/Rakoto - TD - Econometrics/TD4 - Regression sous R (II)/Econometrie_TD_4_Data'"
      ],
      "text/latex": [
       "'C:/Users/William/Documents/Data Science - ML/Rakoto - TD - Econometrics/TD4 - Regression sous R (II)/Econometrie\\_TD\\_4\\_Data'"
      ],
      "text/markdown": [
       "'C:/Users/William/Documents/Data Science - ML/Rakoto - TD - Econometrics/TD4 - Regression sous R (II)/Econometrie_TD_4_Data'"
      ],
      "text/plain": [
       "[1] \"C:/Users/William/Documents/Data Science - ML/Rakoto - TD - Econometrics/TD4 - Regression sous R (II)/Econometrie_TD_4_Data\""
      ]
     },
     "metadata": {},
     "output_type": "display_data"
    }
   ],
   "source": [
    "#Set the working environment\n",
    "getwd()\n",
    "setwd(\"C:\\\\Users\\\\William\\\\Documents\\\\Data Science - ML\\\\Rakoto - TD - Econometrics\\\\TD4 - Regression sous R (II)\\\\Econometrie_TD_4_Data\")\n",
    "\n",
    "#Data Importation\n",
    "df<- read.table(file=\"cigarettes_pour_regression.txt\",sep=\"\\t\",header=TRUE,dec=\".\",row.names=1)"
   ]
  },
  {
   "cell_type": "code",
   "execution_count": 9,
   "metadata": {},
   "outputs": [
    {
     "data": {
      "text/html": [
       "<table>\n",
       "<thead><tr><th scope=col>Cigarette</th><th scope=col>TAR</th><th scope=col>NICOTINE</th><th scope=col>WEIGHT</th><th scope=col>CO</th></tr></thead>\n",
       "<tbody>\n",
       "\t<tr><td>Alpine       </td><td>14.1         </td><td>0.86         </td><td>0.9853       </td><td>13.6         </td></tr>\n",
       "\t<tr><td>Benson_Hedges</td><td>16.0         </td><td>1.06         </td><td>1.0938       </td><td>16.6         </td></tr>\n",
       "\t<tr><td>CamelLights  </td><td> 8.0         </td><td>0.67         </td><td>0.9280       </td><td>10.2         </td></tr>\n",
       "\t<tr><td>Carlton      </td><td> 4.1         </td><td>0.40         </td><td>0.9462       </td><td> 5.4         </td></tr>\n",
       "\t<tr><td>Chesterfield </td><td>15.0         </td><td>1.04         </td><td>0.8885       </td><td>15.0         </td></tr>\n",
       "\t<tr><td>GoldenLights </td><td> 8.8         </td><td>0.76         </td><td>1.0267       </td><td> 9.0         </td></tr>\n",
       "</tbody>\n",
       "</table>\n"
      ],
      "text/latex": [
       "\\begin{tabular}{r|lllll}\n",
       " Cigarette & TAR & NICOTINE & WEIGHT & CO\\\\\n",
       "\\hline\n",
       "\t Alpine        & 14.1          & 0.86          & 0.9853        & 13.6         \\\\\n",
       "\t Benson\\_Hedges & 16.0            & 1.06            & 1.0938          & 16.6           \\\\\n",
       "\t CamelLights   &  8.0          & 0.67          & 0.9280        & 10.2         \\\\\n",
       "\t Carlton       &  4.1          & 0.40          & 0.9462        &  5.4         \\\\\n",
       "\t Chesterfield  & 15.0          & 1.04          & 0.8885        & 15.0         \\\\\n",
       "\t GoldenLights  &  8.8          & 0.76          & 1.0267        &  9.0         \\\\\n",
       "\\end{tabular}\n"
      ],
      "text/markdown": [
       "\n",
       "Cigarette | TAR | NICOTINE | WEIGHT | CO | \n",
       "|---|---|---|---|---|---|\n",
       "| Alpine        | 14.1          | 0.86          | 0.9853        | 13.6          | \n",
       "| Benson_Hedges | 16.0          | 1.06          | 1.0938        | 16.6          | \n",
       "| CamelLights   |  8.0          | 0.67          | 0.9280        | 10.2          | \n",
       "| Carlton       |  4.1          | 0.40          | 0.9462        |  5.4          | \n",
       "| Chesterfield  | 15.0          | 1.04          | 0.8885        | 15.0          | \n",
       "| GoldenLights  |  8.8          | 0.76          | 1.0267        |  9.0          | \n",
       "\n",
       "\n"
      ],
      "text/plain": [
       "  Cigarette     TAR  NICOTINE WEIGHT CO  \n",
       "1 Alpine        14.1 0.86     0.9853 13.6\n",
       "2 Benson_Hedges 16.0 1.06     1.0938 16.6\n",
       "3 CamelLights    8.0 0.67     0.9280 10.2\n",
       "4 Carlton        4.1 0.40     0.9462  5.4\n",
       "5 Chesterfield  15.0 1.04     0.8885 15.0\n",
       "6 GoldenLights   8.8 0.76     1.0267  9.0"
      ]
     },
     "metadata": {},
     "output_type": "display_data"
    }
   ],
   "source": [
    "head(df)"
   ]
  },
  {
   "cell_type": "markdown",
   "metadata": {},
   "source": [
    "2. Print information of the dataset"
   ]
  },
  {
   "cell_type": "code",
   "execution_count": 12,
   "metadata": {},
   "outputs": [
    {
     "name": "stdout",
     "output_type": "stream",
     "text": [
      "[1] 24  4\n"
     ]
    }
   ],
   "source": [
    "print(dim(df))"
   ]
  },
  {
   "cell_type": "markdown",
   "metadata": {},
   "source": [
    "We have 24 observation and 4 variables"
   ]
  },
  {
   "cell_type": "markdown",
   "metadata": {},
   "source": [
    "3. Print name of observation and variables"
   ]
  },
  {
   "cell_type": "code",
   "execution_count": 14,
   "metadata": {},
   "outputs": [
    {
     "name": "stdout",
     "output_type": "stream",
     "text": [
      " [1] \"Alpine\"           \"Benson_Hedges\"    \"CamelLights\"      \"Carlton\"         \n",
      " [5] \"Chesterfield\"     \"GoldenLights\"     \"Kent\"             \"Kool\"            \n",
      " [9] \"L_M\"              \"LarkLights\"       \"Marlboro\"         \"Merit\"           \n",
      "[13] \"MultiFilter\"      \"NewportLights\"    \"Now\"              \"OldGold\"         \n",
      "[17] \"PallMallLight\"    \"Raleigh\"          \"SalemUltra\"       \"Tareyton\"        \n",
      "[21] \"TrueLight\"        \"ViceroyRichLight\" \"VirginiaSlims\"    \"WinstonLights\"   \n"
     ]
    }
   ],
   "source": [
    "#Observation\n",
    "print(rownames(df))"
   ]
  },
  {
   "cell_type": "code",
   "execution_count": 15,
   "metadata": {},
   "outputs": [
    {
     "name": "stdout",
     "output_type": "stream",
     "text": [
      "[1] \"TAR\"      \"NICOTINE\" \"WEIGHT\"   \"CO\"      \n"
     ]
    }
   ],
   "source": [
    "#Variables\n",
    "print(colnames(df))"
   ]
  },
  {
   "cell_type": "markdown",
   "metadata": {},
   "source": [
    "4. Statistics summary"
   ]
  },
  {
   "cell_type": "code",
   "execution_count": 16,
   "metadata": {},
   "outputs": [
    {
     "data": {
      "text/plain": [
       "      TAR           NICOTINE          WEIGHT             CO        \n",
       " Min.   : 1.00   Min.   :0.1300   Min.   :0.7851   Min.   : 1.500  \n",
       " 1st Qu.: 8.45   1st Qu.:0.6850   1st Qu.:0.9215   1st Qu.: 9.875  \n",
       " Median :12.60   Median :0.8800   Median :0.9535   Median :12.800  \n",
       " Mean   :11.48   Mean   :0.8283   Mean   :0.9622   Mean   :12.071  \n",
       " 3rd Qu.:15.03   3rd Qu.:1.0200   3rd Qu.:0.9907   3rd Qu.:15.100  \n",
       " Max.   :17.00   Max.   :1.2600   Max.   :1.1240   Max.   :18.500  "
      ]
     },
     "metadata": {},
     "output_type": "display_data"
    }
   ],
   "source": [
    "summary(df)"
   ]
  },
  {
   "cell_type": "markdown",
   "metadata": {},
   "source": [
    "5. Scatter plot for all the pair of varialbes. "
   ]
  },
  {
   "cell_type": "code",
   "execution_count": 17,
   "metadata": {
    "scrolled": true
   },
   "outputs": [
    {
     "data": {
      "image/png": "[encoded data removed]",
      "text/plain": [
       "plot without title"
      ]
     },
     "metadata": {},
     "output_type": "display_data"
    }
   ],
   "source": [
    "pairs(df)"
   ]
  },
  {
   "cell_type": "markdown",
   "metadata": {},
   "source": [
    "We observe a strong correlation between variables, especially with the endogenous \"CO\".\n",
    "\n",
    "Some outliers are present in the dataset, one brand in particular looks to have a very small value of CO."
   ]
  },
  {
   "cell_type": "markdown",
   "metadata": {},
   "source": [
    "Part two: Multiple Linear Regression"
   ]
  },
  {
   "cell_type": "markdown",
   "metadata": {},
   "source": [
    "6. Multiple regression explaining CO from all the other variables"
   ]
  },
  {
   "cell_type": "code",
   "execution_count": 32,
   "metadata": {},
   "outputs": [],
   "source": [
    "m1 <- lm(CO ~ TAR + NICOTINE + WEIGHT, data = df)"
   ]
  },
  {
   "cell_type": "markdown",
   "metadata": {},
   "source": [
    "7. Calculate the R2, Significativity of the model and the coefficient."
   ]
  },
  {
   "cell_type": "code",
   "execution_count": 33,
   "metadata": {},
   "outputs": [],
   "source": [
    "sum_m1=summary(m1)"
   ]
  },
  {
   "cell_type": "code",
   "execution_count": 34,
   "metadata": {},
   "outputs": [
    {
     "name": "stdout",
     "output_type": "stream",
     "text": [
      "\n",
      "Call:\n",
      "lm(formula = CO ~ TAR + NICOTINE + WEIGHT, data = df)\n",
      "\n",
      "Residuals:\n",
      "    Min      1Q  Median      3Q     Max \n",
      "-2.1083 -0.8046 -0.1199  1.0095  2.0501 \n",
      "\n",
      "Coefficients:\n",
      "            Estimate Std. Error t value Pr(>|t|)    \n",
      "(Intercept)  -0.5517     2.9713  -0.186 0.854569    \n",
      "TAR           0.8876     0.1955   4.540 0.000199 ***\n",
      "NICOTINE      0.5185     3.2523   0.159 0.874941    \n",
      "WEIGHT        2.0793     3.1784   0.654 0.520431    \n",
      "---\n",
      "Signif. codes:  0 '***' 0.001 '**' 0.01 '*' 0.05 '.' 0.1 ' ' 1\n",
      "\n",
      "Residual standard error: 1.16 on 20 degrees of freedom\n",
      "Multiple R-squared:  0.935,\tAdjusted R-squared:  0.9252 \n",
      "F-statistic: 95.86 on 3 and 20 DF,  p-value: 4.85e-12\n",
      "\n"
     ]
    }
   ],
   "source": [
    "print(sum_m1)"
   ]
  },
  {
   "cell_type": "code",
   "execution_count": 35,
   "metadata": {},
   "outputs": [
    {
     "name": "stdout",
     "output_type": "stream",
     "text": [
      "$r.squared\n",
      "[1] 0.9349753\n",
      "\n"
     ]
    }
   ],
   "source": [
    "#R2\n",
    "print(sum_m1[8])"
   ]
  },
  {
   "cell_type": "code",
   "execution_count": 37,
   "metadata": {},
   "outputs": [
    {
     "name": "stdout",
     "output_type": "stream",
     "text": [
      "$fstatistic\n",
      "  value   numdf   dendf \n",
      "95.8585  3.0000 20.0000 \n",
      "\n"
     ]
    }
   ],
   "source": [
    "#F-Stat\n",
    "print(sum_m1[10])"
   ]
  },
  {
   "cell_type": "code",
   "execution_count": null,
   "metadata": {},
   "outputs": [],
   "source": [
    "Only the variable TAR is significatively different from 0. (p-value = Pr(>|t|) < 0.05).\n",
    "It confirms the expectations from the graph.\n",
    "Nevertheless NICOTINE seems not to be relevant is the model."
   ]
  },
  {
   "cell_type": "markdown",
   "metadata": {},
   "source": [
    "8. Coefficients."
   ]
  },
  {
   "cell_type": "code",
   "execution_count": 43,
   "metadata": {},
   "outputs": [
    {
     "name": "stdout",
     "output_type": "stream",
     "text": [
      "              Estimate Std. Error    t value     Pr(>|t|)\n",
      "(Intercept) -0.5516976  2.9712809 -0.1856767 0.8545685010\n",
      "TAR          0.8875803  0.1954817  4.5404782 0.0001990908\n",
      "NICOTINE     0.5184696  3.2523311  0.1594148 0.8749410220\n",
      "WEIGHT       2.0793442  3.1784171  0.6542075 0.5204306639\n",
      "[1] \"matrix\"\n",
      "[1] 4 4\n"
     ]
    }
   ],
   "source": [
    "print(sum_m1$coefficient)\n",
    "print(class(sum_m1$coefficient))\n",
    "print(dim(sum_m1$coefficient))"
   ]
  },
  {
   "cell_type": "markdown",
   "metadata": {},
   "source": [
    "9. Standard-deviation of the coefficients estimated"
   ]
  },
  {
   "cell_type": "code",
   "execution_count": 50,
   "metadata": {},
   "outputs": [
    {
     "name": "stdout",
     "output_type": "stream",
     "text": [
      "(Intercept)         TAR    NICOTINE      WEIGHT \n",
      "  2.9712809   0.1954817   3.2523311   3.1784171 \n"
     ]
    }
   ],
   "source": [
    "print(sum_m1$coefficients[,2])"
   ]
  },
  {
   "cell_type": "markdown",
   "metadata": {},
   "source": [
    "10. For each coefficient, calculate the CI at 95%."
   ]
  },
  {
   "cell_type": "code",
   "execution_count": 53,
   "metadata": {},
   "outputs": [
    {
     "name": "stdout",
     "output_type": "stream",
     "text": [
      "(Intercept)         TAR    NICOTINE      WEIGHT \n",
      " -6.7496811   0.4798127  -6.2657743  -4.5507177 \n",
      "(Intercept)         TAR    NICOTINE      WEIGHT \n",
      "   5.646286    1.295348    7.302713    8.709406 \n"
     ]
    }
   ],
   "source": [
    "#quantile Student law\n",
    "qs <- qt(0.975,24-3-1)\n",
    "\n",
    "#law bound\n",
    "print(sum_m1$coefficient[,1]-qs*sum_m1$coefficient[,2])\n",
    "\n",
    "#High bounds\n",
    "print(sum_m1$coefficient[,1]+qs*sum_m1$coefficient[,2])"
   ]
  },
  {
   "cell_type": "markdown",
   "metadata": {},
   "source": [
    "Part 3: residual analysis"
   ]
  },
  {
   "cell_type": "code",
   "execution_count": null,
   "metadata": {},
   "outputs": [],
   "source": []
  }
 ],
 "metadata": {
  "kernelspec": {
   "display_name": "R",
   "language": "R",
   "name": "ir"
  },
  "language_info": {
   "codemirror_mode": "r",
   "file_extension": ".r",
   "mimetype": "text/x-r-source",
   "name": "R",
   "pygments_lexer": "r",
   "version": "3.5.1"
  }
 },
 "nbformat": 4,
 "nbformat_minor": 2
}
